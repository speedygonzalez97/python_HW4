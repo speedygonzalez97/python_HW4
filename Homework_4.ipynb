{
 "cells": [
  {
   "cell_type": "markdown",
   "metadata": {},
   "source": [
    "# Object-Oriented-Programming (OOP)"
   ]
  },
  {
   "cell_type": "markdown",
   "metadata": {},
   "source": [
    "## Tasks Today:\n",
    "\n",
    "   \n",
    "\n",
    "1) <b>Creating a Class (Initializing/Declaring)</b> <br>\n",
    "2) <b>Using a Class (Instantiating)</b> <br>\n",
    " &nbsp;&nbsp;&nbsp;&nbsp; a) Creating One Instance <br>\n",
    " &nbsp;&nbsp;&nbsp;&nbsp; b) Creating Multiple Instances <br>\n",
    " &nbsp;&nbsp;&nbsp;&nbsp; c) In-Class Exercise #1 - Create a Class 'Car' and instantiate three different makes of cars <br>\n",
    "3) <b>The \\__init\\__() Method</b> <br>\n",
    " &nbsp;&nbsp;&nbsp;&nbsp; a) The 'self' Attribute <br>\n",
    "4) <b>Class Attributes</b> <br>\n",
    " &nbsp;&nbsp;&nbsp;&nbsp; a) Initializing Attributes <br>\n",
    " &nbsp;&nbsp;&nbsp;&nbsp; b) Setting an Attribute Outside of the \\__init\\__() Method <br>\n",
    " &nbsp;&nbsp;&nbsp;&nbsp; c) Setting Defaults for Attributes <br>\n",
    " &nbsp;&nbsp;&nbsp;&nbsp; d) Accessing Class Attributes <br>\n",
    " &nbsp;&nbsp;&nbsp;&nbsp; e) Changing Class Attributes <br>\n",
    " &nbsp;&nbsp;&nbsp;&nbsp; f) In-Class Exercise #2 - Add a color and wheels attribute to your 'Car' class <br>\n",
    "5) <b>Class Methods</b> <br>\n",
    " &nbsp;&nbsp;&nbsp;&nbsp; a) Creating <br>\n",
    " &nbsp;&nbsp;&nbsp;&nbsp; b) Calling <br>\n",
    " &nbsp;&nbsp;&nbsp;&nbsp; c) Modifying an Attribute's Value Through a Method <br>\n",
    " &nbsp;&nbsp;&nbsp;&nbsp; d) Incrementing an Attribute's Value Through a Method <br>\n",
    " &nbsp;&nbsp;&nbsp;&nbsp; e) In-Class Exercise #3 - Add a method that prints the cars color and wheel number, then call them <br>\n",
    "6) <b>Inheritance</b> <br>\n",
    " &nbsp;&nbsp;&nbsp;&nbsp; a) Syntax for Inheriting from a Parent Class <br>\n",
    " &nbsp;&nbsp;&nbsp;&nbsp; b) The \\__init\\__() Method for a Child Class (super()) <br>\n",
    " &nbsp;&nbsp;&nbsp;&nbsp; c) Defining Attributes and Methods for the Child Class <br>\n",
    " &nbsp;&nbsp;&nbsp;&nbsp; d) Method Overriding <br>\n",
    " &nbsp;&nbsp;&nbsp;&nbsp; e) In-Class Exercise #4 - Create a class 'Ford' that inherits from 'Car' class and initialize it as a Blue Ford Explorer with 4 wheels using the super() method <br>\n",
    "7) <b>Classes as Attributes</b> <br>\n",
    "8) <b>Exercises</b> <br>\n",
    " &nbsp;&nbsp;&nbsp;&nbsp; a) Exercise #1 - Turn the shopping cart program from yesterday into an object-oriented program <br>"
   ]
  },
  {
   "cell_type": "markdown",
   "metadata": {},
   "source": [
    "## Creating a Class (Initializing/Declaring)\n",
    "<p>When creating a class, function, or even a variable you are initializing that object. Initializing and Declaring occur at the same time in Python, whereas in lower level languages you have to declare an object before initializing it. This is the first step in the process of using a class.</p>"
   ]
  },
  {
   "cell_type": "code",
   "execution_count": 32,
   "metadata": {},
   "outputs": [],
   "source": [
    "class Car():\n",
    "    wheels = 4    \n",
    "    color = 'blue'"
   ]
  },
  {
   "cell_type": "markdown",
   "metadata": {},
   "source": [
    "## Using a Class (Instantiating)\n",
    "<p>The process of creating a class is called <i>Instantiating</i>. Each time you create a variable of that type of class, it is referred to as an <i>Instance</i> of that class. This is the second step in the process of using a class.</p>"
   ]
  },
  {
   "cell_type": "markdown",
   "metadata": {},
   "source": [
    "##### Creating One Instance"
   ]
  },
  {
   "cell_type": "code",
   "execution_count": 33,
   "metadata": {},
   "outputs": [
    {
     "name": "stdout",
     "output_type": "stream",
     "text": [
      "blue\n"
     ]
    }
   ],
   "source": [
    "ford = Car()\n",
    "\n",
    "\n",
    "print(ford.color)\n"
   ]
  },
  {
   "cell_type": "markdown",
   "metadata": {},
   "source": [
    "##### Creating Multiple Instances"
   ]
  },
  {
   "cell_type": "code",
   "execution_count": 34,
   "metadata": {},
   "outputs": [
    {
     "name": "stdout",
     "output_type": "stream",
     "text": [
      "4\n",
      "blue\n"
     ]
    }
   ],
   "source": [
    "toyota = Car()\n",
    "hyundai = Car()\n",
    "\n",
    "print(toyota.wheels)\n",
    "print(hyundai.color)"
   ]
  },
  {
   "cell_type": "markdown",
   "metadata": {},
   "source": [
    "##### In-Class Exercise #1 - Create a Class 'Car' and Instantiate three different makes of cars"
   ]
  },
  {
   "cell_type": "code",
   "execution_count": 35,
   "metadata": {},
   "outputs": [
    {
     "name": "stdout",
     "output_type": "stream",
     "text": [
      "4\n",
      "Sudan\n",
      "red\n"
     ]
    }
   ],
   "source": [
    "class Car():\n",
    "    wheels = 4    \n",
    "    color = \"red\"\n",
    "    model = \"Sudan\"\n",
    "    \n",
    "ford = Car()\n",
    "volkswagen = Car()\n",
    "honda = Car()\n",
    "\n",
    "print(honda.wheels)\n",
    "print(volkswagen.model)\n",
    "print(ford.color)"
   ]
  },
  {
   "cell_type": "markdown",
   "metadata": {},
   "source": [
    "## The \\__init\\__() Method <br>\n",
    "<p>This method is used in almost every created class, and called only once upon the creation of the class instance. This method will initialize all variables needed for the object.</p>"
   ]
  },
  {
   "cell_type": "code",
   "execution_count": 13,
   "metadata": {},
   "outputs": [
    {
     "name": "stdout",
     "output_type": "stream",
     "text": [
      "red\n",
      "8\n"
     ]
    }
   ],
   "source": [
    "class Car():\n",
    "    size = \"3.54\"\n",
    "    def __init__(self,color, wheels):\n",
    "        self.color = color\n",
    "        self.wheels = wheels\n",
    "\n",
    "\n",
    "chrysler = Car(\"red\", 4)\n",
    "range_rover = Car(\"blue\",8)\n",
    "\n",
    "\n",
    "print(chrysler.color)\n",
    "print(range_rover.wheels)"
   ]
  },
  {
   "cell_type": "markdown",
   "metadata": {},
   "source": [
    "##### The 'self' Attribute <br>\n",
    "<p>This attribute is required to keep track of specific instance's attributes. Without the self attribute, the program would not know how to reference or keep track of an instance's attributes.</p>"
   ]
  },
  {
   "cell_type": "code",
   "execution_count": 14,
   "metadata": {},
   "outputs": [],
   "source": [
    "# see above\n",
    "class Car():\n",
    "    size = \"3.54\"\n",
    "    def __init__(self, color, wheels):\n",
    "        self.color = color\n",
    "        self.wheels = wheels\n",
    "\n"
   ]
  },
  {
   "cell_type": "markdown",
   "metadata": {},
   "source": [
    "## Class Attributes <br>\n",
    "<p>While variables are inside of a class, they are referred to as attributes and not variables. When someone says 'attribute' you know they're speaking about a class. Attributes can be initialized through the init method, or outside of it.</p>"
   ]
  },
  {
   "cell_type": "markdown",
   "metadata": {},
   "source": [
    "##### Initializing Attributes"
   ]
  },
  {
   "cell_type": "code",
   "execution_count": 15,
   "metadata": {},
   "outputs": [],
   "source": [
    "# see above\n",
    "\n",
    "class Toy():\n",
    "    kind = \"car\"\n",
    "    \n",
    "    def __init__(self, rooftop, horn, wheels):\n",
    "        self.rooftop = rooftop\n",
    "        self.horn = horn\n",
    "        self.wheels = wheels\n",
    "        \n",
    "\n",
    "truck = Toy(2,1,4)\n",
    "hotwheels = Toy(3,2,5)\n",
    "    \n",
    "        \n"
   ]
  },
  {
   "cell_type": "markdown",
   "metadata": {},
   "source": [
    "##### Accessing Class Attributes"
   ]
  },
  {
   "cell_type": "code",
   "execution_count": 20,
   "metadata": {
    "scrolled": true
   },
   "outputs": [
    {
     "data": {
      "text/plain": [
       "3"
      ]
     },
     "execution_count": 20,
     "metadata": {},
     "output_type": "execute_result"
    }
   ],
   "source": [
    "# See Above\n",
    "truck.rooftop\n",
    "hotwheels.rooftop"
   ]
  },
  {
   "cell_type": "markdown",
   "metadata": {},
   "source": [
    "##### Setting Defaults for Attributes"
   ]
  },
  {
   "cell_type": "code",
   "execution_count": 22,
   "metadata": {},
   "outputs": [
    {
     "data": {
      "text/plain": [
       "'red'"
      ]
     },
     "execution_count": 22,
     "metadata": {},
     "output_type": "execute_result"
    }
   ],
   "source": [
    "class Car():\n",
    "    engine = \"3.22\"\n",
    "    \n",
    "    def __init__(self, wheels):\n",
    "        self.wheels = wheels\n",
    "        self.color = \"red\"\n",
    "\n",
    "toyota = Car(4)\n",
    "toyota.color\n",
    "\n",
    "    \n",
    "    \n",
    "    "
   ]
  },
  {
   "cell_type": "markdown",
   "metadata": {},
   "source": [
    "##### Changing Class Attributes <br>\n",
    "<p>Keep in mind there are global class attributes and then there are attributes only available to each class instance which won't effect other classes.</p>"
   ]
  },
  {
   "cell_type": "code",
   "execution_count": 24,
   "metadata": {},
   "outputs": [
    {
     "name": "stdout",
     "output_type": "stream",
     "text": [
      "Before change: red\n",
      "Change: blue\n",
      "red\n"
     ]
    }
   ],
   "source": [
    "honda = Car(3)\n",
    "\n",
    "print(f\"Before change: {honda.color}\")\n",
    "\n",
    "honda.color = \"blue\"\n",
    "\n",
    "print(f\"Change: {honda.color}\")\n",
    "print(toyota.color)"
   ]
  },
  {
   "cell_type": "code",
   "execution_count": null,
   "metadata": {},
   "outputs": [],
   "source": []
  },
  {
   "cell_type": "markdown",
   "metadata": {},
   "source": [
    "##### In-Class Exercise #2 - Add a doors and seats attribute to your 'Car' class then print out two different instances with different doors and seats"
   ]
  },
  {
   "cell_type": "code",
   "execution_count": 25,
   "metadata": {},
   "outputs": [
    {
     "name": "stdout",
     "output_type": "stream",
     "text": [
      "Honda seats: 2 and Honda doors: 4\n",
      "ford seats: 4 and ford doors: 3\n"
     ]
    }
   ],
   "source": [
    "class Car():\n",
    "    def __init__(self,doors, seats = 4):\n",
    "        self.doors = doors\n",
    "        self.seats = seats\n",
    "        \n",
    "honda = Car(4,2)\n",
    "ford = Car(3)\n",
    "\n",
    "print(f\"Honda seats: {honda.seats} and Honda doors: {honda.doors}\")\n",
    "print(f\"ford seats: {ford.seats} and ford doors: {ford.doors}\")"
   ]
  },
  {
   "cell_type": "markdown",
   "metadata": {},
   "source": [
    "## Class Methods <br>\n",
    "<p>While inside of a class, functions are referred to as 'methods'. If you hear someone mention methods, they're speaking about classes. Methods are essentially functions, but only callable on the instances of a class.</p>"
   ]
  },
  {
   "cell_type": "markdown",
   "metadata": {},
   "source": [
    "##### Creating"
   ]
  },
  {
   "cell_type": "code",
   "execution_count": 26,
   "metadata": {},
   "outputs": [],
   "source": [
    "class shoppingbag():\n",
    "    \"\"\"\"\n",
    "        Shoppingbag class will have handles, capacity, and items to put inside.\n",
    "        \n",
    "        Attributes:\n",
    "            -handles: interger\n",
    "            -capacity: string or integer\n",
    "            -items: list\n",
    "    \"\"\"\n",
    "    def __init__(self, handles, capacity, items):\n",
    "        self.handles = handles\n",
    "        self.capacity = capacity\n",
    "        self.items = items\n",
    "        \n",
    "    def showshoppingbag(self):\n",
    "        print(\"you have items in your bag!\")\n",
    "        for item in self.items:\n",
    "            print(item)\n",
    "            \n",
    "    def showcapacity(self):\n",
    "        print(f\"Your capacity is: {self.capacity}\")\n",
    "        \n",
    "    def addtoshoppingbag(self):\n",
    "        products = input(\"What would you like to add?\")\n",
    "        self.items.append(products)\n",
    "        \n",
    "    def changebagcapacity(self, capacity):\n",
    "        self.capacity = capacity\n",
    "    \n",
    "    def increasecapacity(self, changedcapacity = 10):\n",
    "        if self.capacity == isinstance(self.capacity,str):\n",
    "            print(\"We can't add that here\")\n",
    "        \n",
    "        else:\n",
    "            self.capacity += changedcapacity\n",
    "        \n",
    "    \n",
    "        "
   ]
  },
  {
   "cell_type": "markdown",
   "metadata": {},
   "source": [
    "##### Calling"
   ]
  },
  {
   "cell_type": "code",
   "execution_count": 27,
   "metadata": {},
   "outputs": [
    {
     "name": "stdout",
     "output_type": "stream",
     "text": [
      "What do you want to do? add/show/quit add\n",
      "What would you like to add?banana\n",
      "What do you want to do? add/show/quit add\n",
      "What would you like to add?apple\n",
      "What do you want to do? add/show/quit show\n",
      "you have items in your bag!\n",
      "banana\n",
      "apple\n",
      "What do you want to do? add/show/quit quir\n",
      "Try another command\n",
      "What do you want to do? add/show/quit quit\n",
      "you have items in your bag!\n",
      "banana\n",
      "apple\n",
      "Thanks for shopping\n"
     ]
    }
   ],
   "source": [
    "# See Above\n",
    "wholefoodsbag = shoppingbag(2,10,[])\n",
    "\n",
    "def  run():\n",
    "    while True:\n",
    "        response = input(\"What do you want to do? add/show/quit \")\n",
    "        \n",
    "        if response.lower() == \"quit\":\n",
    "            wholefoodsbag.showshoppingbag()\n",
    "            print(\"Thanks for shopping\")\n",
    "            break\n",
    "        elif response.lower() == \"add\":\n",
    "            wholefoodsbag.addtoshoppingbag()\n",
    "        elif response.lower() == \"show\":\n",
    "            wholefoodsbag.showshoppingbag()\n",
    "        else:\n",
    "            print(\"Try another command\")\n",
    "            \n",
    "run()"
   ]
  },
  {
   "cell_type": "markdown",
   "metadata": {},
   "source": [
    "##### Modifying an Attribute's Value Through a Method"
   ]
  },
  {
   "cell_type": "code",
   "execution_count": 28,
   "metadata": {},
   "outputs": [
    {
     "name": "stdout",
     "output_type": "stream",
     "text": [
      "Your capacity is: 10\n",
      "Capacity after the change...\n",
      "Your capacity is: 40\n"
     ]
    }
   ],
   "source": [
    "wholefoodsbag.showcapacity()\n",
    "print(\"Capacity after the change...\")\n",
    "wholefoodsbag.changebagcapacity(40)\n",
    "wholefoodsbag.showcapacity()"
   ]
  },
  {
   "cell_type": "markdown",
   "metadata": {},
   "source": [
    "##### Incrementing an Attribute's Value Through a Method"
   ]
  },
  {
   "cell_type": "code",
   "execution_count": 36,
   "metadata": {},
   "outputs": [
    {
     "name": "stdout",
     "output_type": "stream",
     "text": [
      "Your capacity is: 40\n",
      "After increase: \n",
      "Your capacity is: 50\n"
     ]
    }
   ],
   "source": [
    "wholefoodsbag.showcapacity()\n",
    "print(\"After increase: \")\n",
    "wholefoodsbag.increasecapacity()\n",
    "wholefoodsbag.showcapacity()"
   ]
  },
  {
   "cell_type": "markdown",
   "metadata": {},
   "source": [
    "##### In-Class Exercise #3 - Add a method that takes in three parameters of year, doors and seats and prints out a formatted print statement with make, model, year, seats, and doors"
   ]
  },
  {
   "cell_type": "code",
   "execution_count": 42,
   "metadata": {},
   "outputs": [
    {
     "name": "stdout",
     "output_type": "stream",
     "text": [
      "What year is your car? 2019\n",
      "How many doors does your car have? 4\n",
      "How many seats does your car have? 5\n",
      "This car is from 2019 and is a Ford Explorer and has 4 doors and 5 seats\n"
     ]
    }
   ],
   "source": [
    "# Create class with 2 paramters inside of the __init__ which are make and model\n",
    "class Car():\n",
    "    \n",
    "    def __init__(self, make, model):\n",
    "        self.make = make\n",
    "        self.model = model\n",
    "    \n",
    "    def carattributes(self,year, door, seats):\n",
    "        self.year = year\n",
    "        self.door = door\n",
    "        self.seats = seats\n",
    "        \n",
    "        statement = \"This car is from {} and is a {} {} and has {} doors and {} seats\".format(self.year,self.make,self.model,self.door,self.seats)\n",
    "        print(statement)\n",
    "    \n",
    "        \n",
    "my_car = Car(\"Ford\",\"Explorer\")\n",
    "\n",
    "def take():\n",
    "    \n",
    "    x = input(\"What year is your car? \")\n",
    "    y = input(\"How many doors does your car have? \")\n",
    "    z = input(\"How many seats does your car have? \")\n",
    "    \n",
    "    my_car.carattributes(x,y,z)\n",
    "        \n",
    "        \n",
    "\n",
    "take()\n",
    "\n",
    "\n",
    "# Inside of the Car class create a method that has 4 parameter in total (self,year,door,seats)\n",
    "\n",
    "# Output: This car is from 2019 and is a Ford Expolorer and has 4 doors and 5 seats\n",
    "\n"
   ]
  },
  {
   "cell_type": "markdown",
   "metadata": {},
   "source": [
    "## Inheritance <br>\n",
    "<p>You can create a child-parent relationship between two classes by using inheritance. What this allows you to do is have overriding methods, but also inherit traits from the parent class. Think of it as an actual parent and child, the child will inherit the parent's genes, as will the classes in OOP</p>"
   ]
  },
  {
   "cell_type": "markdown",
   "metadata": {},
   "source": [
    "##### Syntax for Inheriting from a Parent Class"
   ]
  },
  {
   "cell_type": "code",
   "execution_count": 45,
   "metadata": {},
   "outputs": [
    {
     "name": "stdout",
     "output_type": "stream",
     "text": [
      "Bark\n",
      "Make some generic sounds\n",
      "None\n",
      "9.8\n",
      "Make some generic sounds\n",
      "None\n",
      "15\n"
     ]
    }
   ],
   "source": [
    "class animal():\n",
    "    acceleration = 9.8\n",
    "    \n",
    "    def __init__(self,name,species, legs=4):\n",
    "        self.name = name\n",
    "        self.species = species\n",
    "        self.legs = legs\n",
    "        \n",
    "        \n",
    "    def makesound(self):\n",
    "        print(\"Make some generic sounds\")\n",
    "\n",
    "class dog(animal):\n",
    "    speed=15\n",
    "    \n",
    "    def printinfo(self):\n",
    "        print(f\"The dog has {self.speed}mph in speed and {self.acceleration}\")\n",
    "        \n",
    "class mutt(dog):\n",
    "    color = \"Tan\"\n",
    "    \n",
    "    def __init__(self, name, species, eyecolor, legs=4):\n",
    "        dog.__init__(self,name,species,legs)\n",
    "        self.eyecolor = eyecolor\n",
    "        \n",
    "    def makesound(self):\n",
    "        noise = \"Bark\"\n",
    "        return noise\n",
    "    \n",
    "lassie = dog(\"Lassie\", \"Dog\")\n",
    "basicanimal= animal(\"generic animal name\", \"generic animal species\")\n",
    "buster= mutt(\"buster\",\"mutt\", \"brown\")\n",
    "\n",
    "print(buster.makesound())\n",
    "print(lassie.makesound())\n",
    "print(buster.acceleration)\n",
    "print(basicanimal.makesound())\n",
    "print(buster.speed)\n",
    "\n",
    "        \n",
    "        "
   ]
  },
  {
   "cell_type": "markdown",
   "metadata": {},
   "source": [
    "##### The \\__init\\__() Method for a Child Class - super()"
   ]
  },
  {
   "cell_type": "code",
   "execution_count": 47,
   "metadata": {
    "scrolled": true
   },
   "outputs": [
    {
     "name": "stdout",
     "output_type": "stream",
     "text": [
      "Bark\n",
      "Make some generic sounds\n",
      "None\n",
      "9.8\n",
      "Make some generic sounds\n",
      "None\n",
      "15\n"
     ]
    }
   ],
   "source": [
    "class puppy(dog):\n",
    "    color = \"black and brown\"\n",
    "    \n",
    "    def __init__(self, name, species, eyecolor,legs=4):\n",
    "        super().__init__(name,species,legs)\n",
    "        self.eyecolor = eyecolor\n",
    "    \n",
    "    def makesound(self):\n",
    "        noise = \"bark\"\n",
    "        return noise\n",
    "\n",
    "lassie = dog(\"Lassie\", \"Dog\")\n",
    "basicanimal= animal(\"generic animal name\", \"generic animal species\")\n",
    "buster= mutt(\"buster\",\"mutt\", \"brown\")\n",
    "\n",
    "print(buster.makesound())\n",
    "print(lassie.makesound())\n",
    "print(buster.acceleration)\n",
    "print(basicanimal.makesound())\n",
    "print(buster.speed)\n",
    "\n",
    "    \n",
    "    \n",
    "        "
   ]
  },
  {
   "cell_type": "markdown",
   "metadata": {},
   "source": [
    "##### Defining Attributes and Methods for the Child Class"
   ]
  },
  {
   "cell_type": "code",
   "execution_count": null,
   "metadata": {},
   "outputs": [],
   "source": [
    "# See Above"
   ]
  },
  {
   "cell_type": "markdown",
   "metadata": {},
   "source": [
    "##### Method Overriding"
   ]
  },
  {
   "cell_type": "code",
   "execution_count": null,
   "metadata": {},
   "outputs": [],
   "source": [
    "# See Above"
   ]
  },
  {
   "cell_type": "markdown",
   "metadata": {},
   "source": [
    "## Classes as Attributes <br>\n",
    "<p>Classes can also be used as attributes within another class. This is useful in situations where you need to keep variables locally stored, instead of globally stored.</p>"
   ]
  },
  {
   "cell_type": "code",
   "execution_count": 52,
   "metadata": {},
   "outputs": [
    {
     "name": "stdout",
     "output_type": "stream",
     "text": [
      "20\n"
     ]
    },
    {
     "data": {
      "text/plain": [
       "'2019 tesla model x 20'"
      ]
     },
     "execution_count": 52,
     "metadata": {},
     "output_type": "execute_result"
    }
   ],
   "source": [
    "class battery():\n",
    "    volts = 7.8\n",
    "    \n",
    "    def __init__(self,cells):\n",
    "        self.cells = cells\n",
    "        \n",
    "class Car():\n",
    "    def __init__(self, year, make, model, battery):\n",
    "        self.year = year\n",
    "        self.make = make\n",
    "        self.model = model\n",
    "        self.battery = battery\n",
    "    \n",
    "    def printinfo(self):\n",
    "        return f'{self.year} {self.make} {self.model} {self.battery.cells}'\n",
    "        \n",
    "mybattery = battery(20)\n",
    "\n",
    "tesla = Car(2019,\"tesla\", \"model x\", mybattery)\n",
    "\n",
    "print(tesla.battery.cells)\n",
    "tesla.printinfo()"
   ]
  },
  {
   "cell_type": "markdown",
   "metadata": {},
   "source": [
    "# Exercises"
   ]
  },
  {
   "cell_type": "markdown",
   "metadata": {},
   "source": [
    "### Exercise 1 - Turn the shopping cart program from yesterday into an object-oriented program\n",
    "\n",
    "The comments in the cell below are there as a guide for thinking about the problem. However, if you feel a different way is best for you and your own thought process, please do what feels best for you by all means."
   ]
  },
  {
   "cell_type": "code",
   "execution_count": 61,
   "metadata": {},
   "outputs": [
    {
     "name": "stdout",
     "output_type": "stream",
     "text": [
      "What do you want to do? add/remove/show/quit: add\n",
      "What would you like to add? apple\n",
      "What do you want to do? add/remove/show/quit: add\n",
      "What would you like to add? pear\n",
      "What do you want to do? add/remove/show/quit: add\n",
      "What would you like to add? banana\n",
      "What do you want to do? add/remove/show/quit: show\n",
      "you have items in your bag! \n",
      "['apple', 'pear', 'banana']\n",
      "What do you want to do? add/remove/show/quit: remove\n",
      "What would you like to remove? pear\n",
      "What do you want to do? add/remove/show/quit: show\n",
      "you have items in your bag! \n",
      "['apple', 'banana']\n",
      "What do you want to do? add/remove/show/quit: add\n",
      "What would you like to add? orange\n",
      "What do you want to do? add/remove/show/quit: add\n",
      "What would you like to add? lemon\n",
      "What do you want to do? add/remove/show/quit: show\n",
      "you have items in your bag! \n",
      "['apple', 'banana', 'orange', 'lemon']\n",
      "What do you want to do? add/remove/show/quit: quit\n",
      "you have items in your bag! \n",
      "['apple', 'banana', 'orange', 'lemon']\n",
      "Thanks for shopping\n"
     ]
    }
   ],
   "source": [
    "class Cart():\n",
    "    pass\n",
    "\n",
    "    def __init__(self, items):\n",
    "        self.items = items\n",
    "        \n",
    "    def showCart(self):\n",
    "        print(\"you have items in your bag! \")\n",
    "        print(self.items)\n",
    "\n",
    "    def addtoCart(self):\n",
    "        products = input(\"What would you like to add? \")\n",
    "        self.items.append(products)\n",
    "    \n",
    "    def removefromCart(self):\n",
    "        products = input(\"What would you like to remove? \")\n",
    "        self.items.remove(products)\n",
    "        \n",
    "shoppingCart = Cart([])\n",
    "\n",
    "def run():\n",
    "    \n",
    "    while True:\n",
    "        response = input(\"What do you want to do? add/remove/show/quit: \")\n",
    "        \n",
    "        if response.lower() == \"quit\":\n",
    "            shoppingCart.showCart()\n",
    "            print(\"Thanks for shopping\")\n",
    "            break\n",
    "            \n",
    "        elif response.lower() == \"add\":\n",
    "            shoppingCart.addtoCart()\n",
    "            \n",
    "        elif response.lower() == \"remove\":\n",
    "            shoppingCart.removefromCart()\n",
    "            \n",
    "        elif response.lower() == \"show\":\n",
    "            shoppingCart.showCart()\n",
    "            \n",
    "        else:\n",
    "            print(\"Try another command\")\n",
    "            \n",
    "run()\n",
    "\n"
   ]
  },
  {
   "cell_type": "raw",
   "metadata": {},
   "source": [
    "# Create a class called cart that retains items and has methods to add, remove, and show\n",
    "\n"
   ]
  },
  {
   "cell_type": "markdown",
   "metadata": {},
   "source": [
    "### Exercise 2 - Write a Python class which has two methods get_String and print_String. get_String accept a string from the user and print_String print the string in upper case"
   ]
  },
  {
   "cell_type": "code",
   "execution_count": 70,
   "metadata": {},
   "outputs": [
    {
     "name": "stdout",
     "output_type": "stream",
     "text": [
      "Write a string of words and letter: bryan gonzalez\n",
      "This is what you wrote exactly: \n",
      "\n",
      "BRYAN GONZALEZ\n"
     ]
    }
   ],
   "source": [
    "class strings():\n",
    "    \n",
    "    def __init__(self, string):\n",
    "        self.string = string\n",
    "        \n",
    "    def get_String(self):\n",
    "        x = input(\"Write a string of words and letter: \")\n",
    "        self.string = x\n",
    "        \n",
    "    def print_String(self):\n",
    "        print(\"This is what you wrote exactly: \\n\")\n",
    "        print(self.string.upper())\n",
    "    \n",
    "x = strings(\"\")\n",
    "\n",
    "x.get_String()\n",
    "\n",
    "x.print_String()\n",
    "\n",
    "\n",
    "\n",
    "    "
   ]
  },
  {
   "cell_type": "code",
   "execution_count": null,
   "metadata": {},
   "outputs": [],
   "source": []
  }
 ],
 "metadata": {
  "kernelspec": {
   "display_name": "Python 3 (ipykernel)",
   "language": "python",
   "name": "python3"
  },
  "language_info": {
   "codemirror_mode": {
    "name": "ipython",
    "version": 3
   },
   "file_extension": ".py",
   "mimetype": "text/x-python",
   "name": "python",
   "nbconvert_exporter": "python",
   "pygments_lexer": "ipython3",
   "version": "3.11.5"
  }
 },
 "nbformat": 4,
 "nbformat_minor": 2
}
